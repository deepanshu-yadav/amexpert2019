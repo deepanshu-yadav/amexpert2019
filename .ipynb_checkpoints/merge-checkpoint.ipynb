{
 "cells": [
  {
   "cell_type": "code",
   "execution_count": 1,
   "metadata": {},
   "outputs": [],
   "source": [
    "# loading the data\n",
    "\n",
    "import pandas as pd\n",
    "import numpy as np\n",
    "import matplotlib.pyplot as plt\n",
    "%matplotlib inline\n",
    "import seaborn as sns\n"
   ]
  },
  {
   "cell_type": "code",
   "execution_count": 2,
   "metadata": {},
   "outputs": [],
   "source": [
    "transaction_df = pd.read_csv('data/train_AUpWtIz/customer_transaction_data.csv')\n",
    "item_df = pd.read_csv('data/train_AUpWtIz/item_data.csv' )\n",
    "campaign_df = pd.read_csv('data/train_AUpWtIz/campaign_data.csv' )\n",
    "main_df = pd.read_csv('data/train_AUpWtIz/train.csv' )\n",
    "coupon_item_df = pd.read_csv('data/train_AUpWtIz/coupon_item_mapping.csv')\n",
    "customer_details_df = pd.read_csv('data/train_AUpWtIz/customer_demographics.csv')\n"
   ]
  },
  {
   "cell_type": "code",
   "execution_count": 3,
   "metadata": {},
   "outputs": [
    {
     "name": "stdout",
     "output_type": "stream",
     "text": [
      "<class 'pandas.core.frame.DataFrame'>\n",
      "Int64Index: 78369 entries, 0 to 78368\n",
      "Data columns (total 14 columns):\n",
      "id                   78369 non-null int64\n",
      "campaign_id          78369 non-null int64\n",
      "coupon_id            78369 non-null int64\n",
      "customer_id          78369 non-null int64\n",
      "redemption_status    78369 non-null int64\n",
      "age_range            43661 non-null object\n",
      "marital_status       25394 non-null object\n",
      "rented               43661 non-null float64\n",
      "family_size          43661 non-null object\n",
      "no_of_children       14056 non-null object\n",
      "income_bracket       43661 non-null float64\n",
      "campaign_type        78369 non-null object\n",
      "start_date           78369 non-null object\n",
      "end_date             78369 non-null object\n",
      "dtypes: float64(2), int64(5), object(7)\n",
      "memory usage: 9.0+ MB\n"
     ]
    }
   ],
   "source": [
    "main_cust_camp = pd.merge(pd.merge( main_df , customer_details_df , on ='customer_id'  , how='left' ) , campaign_df , on='campaign_id' , how='left')\n",
    "main_cust_camp.info()"
   ]
  },
  {
   "cell_type": "code",
   "execution_count": 4,
   "metadata": {},
   "outputs": [
    {
     "data": {
      "text/plain": [
       "866"
      ]
     },
     "execution_count": 4,
     "metadata": {},
     "output_type": "execute_result"
    }
   ],
   "source": [
    "len(main_cust_camp['coupon_id'].unique())"
   ]
  },
  {
   "cell_type": "code",
   "execution_count": 5,
   "metadata": {},
   "outputs": [
    {
     "data": {
      "text/plain": [
       "1116"
      ]
     },
     "execution_count": 5,
     "metadata": {},
     "output_type": "execute_result"
    }
   ],
   "source": [
    "len(coupon_item_df['coupon_id'].unique())"
   ]
  },
  {
   "cell_type": "code",
   "execution_count": 6,
   "metadata": {},
   "outputs": [],
   "source": [
    "main_cust_camp_coupon_item  =pd.merge(main_cust_camp , coupon_item_df , on='coupon_id' , how = 'left' )"
   ]
  },
  {
   "cell_type": "code",
   "execution_count": 7,
   "metadata": {},
   "outputs": [
    {
     "data": {
      "text/html": [
       "<div>\n",
       "<style scoped>\n",
       "    .dataframe tbody tr th:only-of-type {\n",
       "        vertical-align: middle;\n",
       "    }\n",
       "\n",
       "    .dataframe tbody tr th {\n",
       "        vertical-align: top;\n",
       "    }\n",
       "\n",
       "    .dataframe thead th {\n",
       "        text-align: right;\n",
       "    }\n",
       "</style>\n",
       "<table border=\"1\" class=\"dataframe\">\n",
       "  <thead>\n",
       "    <tr style=\"text-align: right;\">\n",
       "      <th></th>\n",
       "      <th>id</th>\n",
       "      <th>campaign_id</th>\n",
       "      <th>coupon_id</th>\n",
       "      <th>customer_id</th>\n",
       "      <th>redemption_status</th>\n",
       "      <th>age_range</th>\n",
       "      <th>marital_status</th>\n",
       "      <th>rented</th>\n",
       "      <th>family_size</th>\n",
       "      <th>no_of_children</th>\n",
       "      <th>income_bracket</th>\n",
       "      <th>campaign_type</th>\n",
       "      <th>start_date</th>\n",
       "      <th>end_date</th>\n",
       "      <th>item_id</th>\n",
       "    </tr>\n",
       "  </thead>\n",
       "  <tbody>\n",
       "    <tr>\n",
       "      <th>6420689</th>\n",
       "      <td>128595</td>\n",
       "      <td>13</td>\n",
       "      <td>681</td>\n",
       "      <td>623</td>\n",
       "      <td>0</td>\n",
       "      <td>NaN</td>\n",
       "      <td>NaN</td>\n",
       "      <td>NaN</td>\n",
       "      <td>NaN</td>\n",
       "      <td>NaN</td>\n",
       "      <td>NaN</td>\n",
       "      <td>X</td>\n",
       "      <td>19/05/13</td>\n",
       "      <td>05/07/13</td>\n",
       "      <td>16981</td>\n",
       "    </tr>\n",
       "    <tr>\n",
       "      <th>6420690</th>\n",
       "      <td>128595</td>\n",
       "      <td>13</td>\n",
       "      <td>681</td>\n",
       "      <td>623</td>\n",
       "      <td>0</td>\n",
       "      <td>NaN</td>\n",
       "      <td>NaN</td>\n",
       "      <td>NaN</td>\n",
       "      <td>NaN</td>\n",
       "      <td>NaN</td>\n",
       "      <td>NaN</td>\n",
       "      <td>X</td>\n",
       "      <td>19/05/13</td>\n",
       "      <td>05/07/13</td>\n",
       "      <td>44676</td>\n",
       "    </tr>\n",
       "    <tr>\n",
       "      <th>6420691</th>\n",
       "      <td>128595</td>\n",
       "      <td>13</td>\n",
       "      <td>681</td>\n",
       "      <td>623</td>\n",
       "      <td>0</td>\n",
       "      <td>NaN</td>\n",
       "      <td>NaN</td>\n",
       "      <td>NaN</td>\n",
       "      <td>NaN</td>\n",
       "      <td>NaN</td>\n",
       "      <td>NaN</td>\n",
       "      <td>X</td>\n",
       "      <td>19/05/13</td>\n",
       "      <td>05/07/13</td>\n",
       "      <td>38641</td>\n",
       "    </tr>\n",
       "    <tr>\n",
       "      <th>6420692</th>\n",
       "      <td>128595</td>\n",
       "      <td>13</td>\n",
       "      <td>681</td>\n",
       "      <td>623</td>\n",
       "      <td>0</td>\n",
       "      <td>NaN</td>\n",
       "      <td>NaN</td>\n",
       "      <td>NaN</td>\n",
       "      <td>NaN</td>\n",
       "      <td>NaN</td>\n",
       "      <td>NaN</td>\n",
       "      <td>X</td>\n",
       "      <td>19/05/13</td>\n",
       "      <td>05/07/13</td>\n",
       "      <td>34285</td>\n",
       "    </tr>\n",
       "    <tr>\n",
       "      <th>6420693</th>\n",
       "      <td>128595</td>\n",
       "      <td>13</td>\n",
       "      <td>681</td>\n",
       "      <td>623</td>\n",
       "      <td>0</td>\n",
       "      <td>NaN</td>\n",
       "      <td>NaN</td>\n",
       "      <td>NaN</td>\n",
       "      <td>NaN</td>\n",
       "      <td>NaN</td>\n",
       "      <td>NaN</td>\n",
       "      <td>X</td>\n",
       "      <td>19/05/13</td>\n",
       "      <td>05/07/13</td>\n",
       "      <td>990</td>\n",
       "    </tr>\n",
       "  </tbody>\n",
       "</table>\n",
       "</div>"
      ],
      "text/plain": [
       "             id  campaign_id  coupon_id  customer_id  redemption_status  \\\n",
       "6420689  128595           13        681          623                  0   \n",
       "6420690  128595           13        681          623                  0   \n",
       "6420691  128595           13        681          623                  0   \n",
       "6420692  128595           13        681          623                  0   \n",
       "6420693  128595           13        681          623                  0   \n",
       "\n",
       "        age_range marital_status  rented family_size no_of_children  \\\n",
       "6420689       NaN            NaN     NaN         NaN            NaN   \n",
       "6420690       NaN            NaN     NaN         NaN            NaN   \n",
       "6420691       NaN            NaN     NaN         NaN            NaN   \n",
       "6420692       NaN            NaN     NaN         NaN            NaN   \n",
       "6420693       NaN            NaN     NaN         NaN            NaN   \n",
       "\n",
       "         income_bracket campaign_type start_date  end_date  item_id  \n",
       "6420689             NaN             X   19/05/13  05/07/13    16981  \n",
       "6420690             NaN             X   19/05/13  05/07/13    44676  \n",
       "6420691             NaN             X   19/05/13  05/07/13    38641  \n",
       "6420692             NaN             X   19/05/13  05/07/13    34285  \n",
       "6420693             NaN             X   19/05/13  05/07/13      990  "
      ]
     },
     "execution_count": 7,
     "metadata": {},
     "output_type": "execute_result"
    }
   ],
   "source": [
    "main_cust_camp_coupon_item.tail()"
   ]
  },
  {
   "cell_type": "code",
   "execution_count": 12,
   "metadata": {},
   "outputs": [],
   "source": [
    "new_transaction_df = transaction_df.set_index(  [ 'customer_id' , 'item_id' ] ) \n",
    "new_main_df = main_cust_camp_coupon_item.set_index( [  'customer_id' , 'item_id' ] )\n",
    "#pd.DataFrame( transaction_df , index = trans_index )\n"
   ]
  },
  {
   "cell_type": "code",
   "execution_count": 20,
   "metadata": {},
   "outputs": [],
   "source": [
    "new_transaction_df_index = new_transaction_df.index\n",
    "new_main_df_index= new_main_df.index\n"
   ]
  },
  {
   "cell_type": "code",
   "execution_count": null,
   "metadata": {},
   "outputs": [],
   "source": [
    "res = main_cust_camp_coupon_item.loc[new_main_df_index.intersection(new_transaction_df_index) ]"
   ]
  },
  {
   "cell_type": "raw",
   "metadata": {},
   "source": []
  },
  {
   "cell_type": "code",
   "execution_count": 8,
   "metadata": {},
   "outputs": [],
   "source": [
    "main_table_modified = main_cust_camp_coupon_item.reindex(  [ 'customer_id' , 'item_id' ] )"
   ]
  },
  {
   "cell_type": "code",
   "execution_count": 9,
   "metadata": {},
   "outputs": [],
   "source": [
    "transaction_table_modified = transaction_df.reindex( [ 'customer_id' , 'item_id' ] ) "
   ]
  },
  {
   "cell_type": "code",
   "execution_count": null,
   "metadata": {},
   "outputs": [],
   "source": [
    "transaction_table_modified.head()"
   ]
  },
  {
   "cell_type": "code",
   "execution_count": null,
   "metadata": {},
   "outputs": [],
   "source": [
    "transaction_df.info()"
   ]
  },
  {
   "cell_type": "code",
   "execution_count": null,
   "metadata": {},
   "outputs": [],
   "source": [
    "print( type(transaction_table_index ) )"
   ]
  },
  {
   "cell_type": "code",
   "execution_count": null,
   "metadata": {},
   "outputs": [],
   "source": []
  },
  {
   "cell_type": "code",
   "execution_count": null,
   "metadata": {},
   "outputs": [],
   "source": [
    "transaction_df.reindex(transaction_table_index)"
   ]
  },
  {
   "cell_type": "code",
   "execution_count": null,
   "metadata": {},
   "outputs": [],
   "source": [
    "transaction_df.head()"
   ]
  },
  {
   "cell_type": "code",
   "execution_count": null,
   "metadata": {},
   "outputs": [],
   "source": [
    "main_table_index = main_table_index.unique()"
   ]
  },
  {
   "cell_type": "code",
   "execution_count": null,
   "metadata": {},
   "outputs": [],
   "source": [
    "transaction_table_index = transaction_table_index.unique()"
   ]
  },
  {
   "cell_type": "code",
   "execution_count": null,
   "metadata": {},
   "outputs": [],
   "source": [
    "unique_main_table = main_cust_camp_coupon_item[main_table_index]\n",
    "unique_transaction_table = transaction_df[transaction_table_index]"
   ]
  },
  {
   "cell_type": "code",
   "execution_count": null,
   "metadata": {},
   "outputs": [],
   "source": [
    "main_table_index.values[0]"
   ]
  },
  {
   "cell_type": "code",
   "execution_count": null,
   "metadata": {},
   "outputs": [],
   "source": [
    "sucessful_campaign = main_table_index.isin(transaction_table_index)"
   ]
  },
  {
   "cell_type": "code",
   "execution_count": null,
   "metadata": {},
   "outputs": [],
   "source": [
    "transaction_table_subset  = transaction_table_index.isin( main_table_index )"
   ]
  },
  {
   "cell_type": "code",
   "execution_count": null,
   "metadata": {},
   "outputs": [],
   "source": [
    "if transaction_table_subset.sum() == sucessful_campaign.sum():\n",
    "    print('same')"
   ]
  },
  {
   "cell_type": "code",
   "execution_count": null,
   "metadata": {},
   "outputs": [],
   "source": [
    "res = pd.concat(main_cust_camp_coupon_item[sucessful_campaign] , transaction_df[transaction_table_subset] , axis =1)"
   ]
  },
  {
   "cell_type": "code",
   "execution_count": null,
   "metadata": {},
   "outputs": [],
   "source": []
  },
  {
   "cell_type": "code",
   "execution_count": null,
   "metadata": {},
   "outputs": [],
   "source": [
    "transaction_table_subset.sum()"
   ]
  },
  {
   "cell_type": "code",
   "execution_count": null,
   "metadata": {},
   "outputs": [],
   "source": [
    "(sucessful_campaign.sum() )"
   ]
  },
  {
   "cell_type": "code",
   "execution_count": null,
   "metadata": {},
   "outputs": [],
   "source": [
    "intersection.sum()"
   ]
  },
  {
   "cell_type": "code",
   "execution_count": null,
   "metadata": {},
   "outputs": [],
   "source": [
    "intersection[0:10000]"
   ]
  },
  {
   "cell_type": "code",
   "execution_count": null,
   "metadata": {},
   "outputs": [],
   "source": [
    "success = pd.concat(main_cust_camp_coupon_item[intersection] ) "
   ]
  },
  {
   "cell_type": "code",
   "execution_count": null,
   "metadata": {},
   "outputs": [],
   "source": []
  }
 ],
 "metadata": {
  "kernelspec": {
   "display_name": "Python 3",
   "language": "python",
   "name": "python3"
  },
  "language_info": {
   "codemirror_mode": {
    "name": "ipython",
    "version": 3
   },
   "file_extension": ".py",
   "mimetype": "text/x-python",
   "name": "python",
   "nbconvert_exporter": "python",
   "pygments_lexer": "ipython3",
   "version": "3.5.2"
  }
 },
 "nbformat": 4,
 "nbformat_minor": 2
}
